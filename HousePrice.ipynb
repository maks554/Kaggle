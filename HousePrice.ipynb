{
  "nbformat": 4,
  "nbformat_minor": 0,
  "metadata": {
    "colab": {
      "name": "HousePrice.ipynb",
      "provenance": [],
      "collapsed_sections": []
    },
    "kernelspec": {
      "display_name": "Python 3",
      "name": "python3"
    }
  },
  "cells": [
    {
      "cell_type": "code",
      "metadata": {
        "id": "6-otd58im1N1"
      },
      "source": [
        "import pandas as pd\r\n",
        "import numpy as np\r\n",
        "import seaborn as sns\r\n",
        "import matplotlib.pyplot as plt"
      ],
      "execution_count": null,
      "outputs": []
    },
    {
      "cell_type": "code",
      "metadata": {
        "id": "Ibb5IbdunFoT"
      },
      "source": [
        "train = pd.read_csv('houseprice.csv')\r\n",
        "test = pd.read_csv('house_test.csv')"
      ],
      "execution_count": null,
      "outputs": []
    },
    {
      "cell_type": "code",
      "metadata": {
        "id": "yRmqD6GUolBK"
      },
      "source": [
        "train.info()"
      ],
      "execution_count": null,
      "outputs": []
    },
    {
      "cell_type": "code",
      "metadata": {
        "id": "vzYYSfoj6ecz"
      },
      "source": [
        "test.info()"
      ],
      "execution_count": null,
      "outputs": []
    },
    {
      "cell_type": "code",
      "metadata": {
        "id": "wjkIjewy9Uem"
      },
      "source": [
        "all_data = pd.concat([train, test], ignore_index=True)"
      ],
      "execution_count": null,
      "outputs": []
    },
    {
      "cell_type": "markdown",
      "metadata": {
        "id": "ecm0pOfTr65I"
      },
      "source": [
        "Заполнить \"No_нзв_столбца\":\r\n",
        "\r\n",
        "Alley,\r\n",
        "Fence,\r\n",
        "FireplaceQu,\r\n",
        "PoolQC,\r\n",
        "MiscFeature,\r\n",
        "GarageCond,\r\n",
        "GarageType,\r\n",
        "GarageFinish,\r\n",
        "GarageQual,\r\n",
        "BsmtExposure,\r\n",
        "BsmtFinType2,\r\n",
        "BsmtFinType1,\r\n",
        "BsmtCond, \r\n",
        "BsmtQual,\r\n",
        "Electrical,\r\n",
        "MSZoning,\r\n",
        "Utilities,\r\n",
        "Functional,\r\n",
        "KitchenQual,\r\n",
        "SaleType,\r\n",
        "Exterior2nd\r\n",
        "\r\n",
        "Заполнить None:\r\n",
        "MasVnrType\r\n",
        "\r\n",
        "Заполнить mode:\r\n",
        "GarageYrBlt,\r\n",
        "BsmtFullBath,\r\n",
        "BsmtHalfBath\r\n",
        "\r\n",
        "Заполнить mean:\r\n",
        "LotFrontage,\r\n",
        "MasVnrArea,\r\n",
        "GarageArea,\r\n",
        "GarageCars,\r\n",
        "BsmtFinSF2,\r\n",
        "BsmtFinSF1,\r\n",
        "TotalBsmtSF,\r\n",
        "BsmtUnfSF"
      ]
    },
    {
      "cell_type": "code",
      "metadata": {
        "colab": {
          "base_uri": "https://localhost:8080/"
        },
        "id": "MreCBK6SJU1t",
        "outputId": "ac65f09d-ae18-4094-ccdc-eccb77356f7d"
      },
      "source": [
        "all_data['GarageYrBlt'].mode()[0]"
      ],
      "execution_count": null,
      "outputs": [
        {
          "output_type": "execute_result",
          "data": {
            "text/plain": [
              "2005.0"
            ]
          },
          "metadata": {
            "tags": []
          },
          "execution_count": 164
        }
      ]
    },
    {
      "cell_type": "code",
      "metadata": {
        "id": "cXlLTV2etaNu"
      },
      "source": [
        "for column in ['LotFrontage', 'MasVnrArea', 'GarageArea', 'GarageCars', 'BsmtFinSF2', 'BsmtFinSF1','TotalBsmtSF', 'BsmtUnfSF']:\r\n",
        "  all_data[column] = all_data[column].fillna(all_data[column].mean())\r\n",
        "\r\n",
        "for column in ['GarageYrBlt', 'BsmtFullBath', 'BsmtHalfBath']:\r\n",
        "  all_data[column] = all_data[column].fillna(all_data[column].mode()[0])\r\n",
        "\r\n",
        "for column in ['Alley', 'Fence', 'FireplaceQu', 'PoolQC', 'MiscFeature', 'GarageCond', 'GarageType',\r\n",
        "       'GarageFinish', 'GarageQual', 'BsmtExposure', 'BsmtFinType2', 'BsmtFinType1', 'BsmtCond', 'BsmtQual', 'Electrical', 'MSZoning', 'Utilities', 'Functional', 'KitchenQual', 'SaleType', 'Exterior2nd']:\r\n",
        "       all_data[column] = all_data[column].fillna('Nocol')\r\n",
        "\r\n",
        "all_data['MasVnrType'] = all_data['MasVnrType'].fillna('None')\r\n",
        "\r\n",
        "for col in ['MSZoning', 'Street', 'Alley', 'LotShape', 'LandContour', 'Utilities',\r\n",
        "        'LotConfig', 'LandSlope', 'Neighborhood', 'Condition1', 'Condition2',\r\n",
        "        'BldgType', 'HouseStyle', 'RoofStyle', 'RoofMatl', 'Exterior1st',\r\n",
        "        'Exterior2nd', 'MasVnrType', 'ExterQual', 'ExterCond', 'Foundation',\r\n",
        "        'BsmtQual', 'BsmtCond', 'BsmtExposure', 'BsmtFinType1', 'BsmtFinType2',\r\n",
        "        'Heating', 'HeatingQC', 'CentralAir', 'Electrical', 'KitchenQual',\r\n",
        "        'Functional', 'FireplaceQu', 'GarageType', 'GarageFinish', 'GarageQual',\r\n",
        "        'GarageCond', 'PavedDrive', 'PoolQC', 'Fence', 'MiscFeature',\r\n",
        "        'SaleType', 'SaleCondition']:\r\n",
        "  tmp = all_data[col].str.get_dummies()\r\n",
        "  tmp = tmp.add_prefix(col + '_')\r\n",
        "  all_data = pd.concat([all_data, tmp], axis=1)\r\n",
        "  all_data.drop(col, axis=1, inplace=True)"
      ],
      "execution_count": null,
      "outputs": []
    },
    {
      "cell_type": "code",
      "metadata": {
        "id": "wHqj7OydnIE5"
      },
      "source": [
        "all_data.isna().sum().sort_values(ascending=False).head(40)"
      ],
      "execution_count": null,
      "outputs": []
    },
    {
      "cell_type": "code",
      "metadata": {
        "colab": {
          "base_uri": "https://localhost:8080/"
        },
        "id": "E98A7dSiGsd0",
        "outputId": "ef472b02-8b48-40c9-a65a-9338f543be4a"
      },
      "source": [
        "del_col = []\r\n",
        "for col in all_data.columns:\r\n",
        "  if '_Nocol' in col:\r\n",
        "    del_col.append(col)\r\n",
        "del_col"
      ],
      "execution_count": null,
      "outputs": [
        {
          "output_type": "execute_result",
          "data": {
            "text/plain": [
              "['MSZoning_Nocol',\n",
              " 'Alley_Nocol',\n",
              " 'Utilities_Nocol',\n",
              " 'Exterior2nd_Nocol',\n",
              " 'BsmtQual_Nocol',\n",
              " 'BsmtCond_Nocol',\n",
              " 'BsmtExposure_Nocol',\n",
              " 'BsmtFinType1_Nocol',\n",
              " 'BsmtFinType2_Nocol',\n",
              " 'Electrical_Nocol',\n",
              " 'KitchenQual_Nocol',\n",
              " 'Functional_Nocol',\n",
              " 'FireplaceQu_Nocol',\n",
              " 'GarageType_Nocol',\n",
              " 'GarageFinish_Nocol',\n",
              " 'GarageQual_Nocol',\n",
              " 'GarageCond_Nocol',\n",
              " 'PoolQC_Nocol',\n",
              " 'Fence_Nocol',\n",
              " 'MiscFeature_Nocol',\n",
              " 'SaleType_Nocol']"
            ]
          },
          "metadata": {
            "tags": []
          },
          "execution_count": 6
        }
      ]
    },
    {
      "cell_type": "code",
      "metadata": {
        "id": "jP3RupdWHqtd"
      },
      "source": [
        "all_data.drop(columns='MasVnrType_None', axis=1, inplace=True)\r\n",
        "all_data.drop(columns=del_col, axis=1, inplace=True)"
      ],
      "execution_count": null,
      "outputs": []
    },
    {
      "cell_type": "code",
      "metadata": {
        "id": "XCmedUAgGAOy"
      },
      "source": [
        "train_X = all_data[:1460].drop('SalePrice', axis=1)\r\n",
        "test_X = all_data[1460:].drop('SalePrice', axis=1)\r\n",
        "train_y = all_data[:1460]['SalePrice']"
      ],
      "execution_count": null,
      "outputs": []
    },
    {
      "cell_type": "code",
      "metadata": {
        "id": "Dk-LZyB8HKZu"
      },
      "source": [
        "from sklearn.preprocessing import MinMaxScaler, StandardScaler"
      ],
      "execution_count": null,
      "outputs": []
    },
    {
      "cell_type": "code",
      "metadata": {
        "id": "-Z_DkxTZGALO"
      },
      "source": [
        "from sklearn.ensemble import RandomForestRegressor, GradientBoostingRegressor\r\n",
        "from sklearn.model_selection import train_test_split, RandomizedSearchCV\r\n",
        "from sklearn.metrics import mean_squared_error"
      ],
      "execution_count": null,
      "outputs": []
    },
    {
      "cell_type": "code",
      "metadata": {
        "id": "Kmhovi4fF_-v",
        "colab": {
          "base_uri": "https://localhost:8080/"
        },
        "outputId": "2b509b73-419b-4a81-9b66-6c0743c45946"
      },
      "source": [
        "scaler = MinMaxScaler(feature_range=(0,1))\r\n",
        "scaler.fit(train_X)\r\n",
        "train_X=scaler.transform(train_X)\r\n",
        "\r\n",
        "xtrain, xtest, ytrain, ytest = train_test_split(train_X, train_y, test_size=0.3, random_state=0)\r\n",
        "\r\n",
        "rfr = RandomForestRegressor()\r\n",
        "\r\n",
        "rfr.fit(xtrain, ytrain)\r\n",
        "\r\n",
        "pred = rfr.predict(xtest)\r\n",
        "\r\n",
        "mean_squared_log_error(pred, ytest)"
      ],
      "execution_count": null,
      "outputs": [
        {
          "output_type": "execute_result",
          "data": {
            "text/plain": [
              "0.019367561880027386"
            ]
          },
          "metadata": {
            "tags": []
          },
          "execution_count": 45
        }
      ]
    },
    {
      "cell_type": "code",
      "metadata": {
        "colab": {
          "base_uri": "https://localhost:8080/"
        },
        "id": "_EXnrODTGSR5",
        "outputId": "6bc03691-96e3-44c8-d144-d8dd1458cd27"
      },
      "source": [
        "xtrain, xtest, ytrain, ytest = train_test_split(train_X, train_y, test_size=0.25, random_state=0)\r\n",
        "\r\n",
        "gbr = GradientBoostingRegressor()\r\n",
        "\r\n",
        "gbr.fit(xtrain, ytrain)\r\n",
        "\r\n",
        "pred = gbr.predict(xtest)\r\n",
        "\r\n",
        "mean_squared_error(np.log(pred), np.log(ytest))"
      ],
      "execution_count": null,
      "outputs": [
        {
          "output_type": "execute_result",
          "data": {
            "text/plain": [
              "0.01630270995944077"
            ]
          },
          "metadata": {
            "tags": []
          },
          "execution_count": 46
        }
      ]
    },
    {
      "cell_type": "code",
      "metadata": {
        "colab": {
          "base_uri": "https://localhost:8080/"
        },
        "id": "reaYS56qGeBd",
        "outputId": "c9b7dc3d-9db9-40a0-81ce-15b61e38c286"
      },
      "source": [
        "#улучшенный градиентный бустинг\r\n",
        "xtrain, xtest, ytrain, ytest = train_test_split(train_X, train_y, test_size=0.25, random_state=42)\r\n",
        "\r\n",
        "\r\n",
        "params={ 'learning_rate'    : [0.05, 0.10, 0.15],\r\n",
        "         'max_depth'        : [3, 4, 5, 6, 8, 10, 12, 15],\r\n",
        "         'n_estimators'     : [100, 500, 1000]}\r\n",
        "\r\n",
        "gbr = GradientBoostingRegressor()\r\n",
        "\r\n",
        "rand_search_gbr = RandomizedSearchCV(gbr, params, n_jobs=-1, cv=5)\r\n",
        "\r\n",
        "rand_search_gbr.fit(xtrain, ytrain)\r\n",
        "\r\n",
        "best_gbr = rand_search_gbr.best_estimator_\r\n",
        "pred1 = best_gbr.predict(xtest)\r\n",
        "\r\n",
        "mean_squared_log_error(ytest, pred1)"
      ],
      "execution_count": null,
      "outputs": [
        {
          "output_type": "execute_result",
          "data": {
            "text/plain": [
              "0.018153639174501125"
            ]
          },
          "metadata": {
            "tags": []
          },
          "execution_count": 47
        }
      ]
    },
    {
      "cell_type": "code",
      "metadata": {
        "id": "oL4qs85SMcW2"
      },
      "source": [
        "answers = pd.Series(gbr.predict(test_X))\r\n",
        "answers_data = pd.DataFrame(test_X.Id)\r\n",
        "answers_data['SalePrice'] = answers.values\r\n",
        "sample = answers_data.to_csv('sample.csv',index=False)"
      ],
      "execution_count": null,
      "outputs": []
    },
    {
      "cell_type": "code",
      "metadata": {
        "id": "ew1n41ARR9_y",
        "colab": {
          "base_uri": "https://localhost:8080/"
        },
        "outputId": "8a85ece8-09aa-436b-c2d8-69004eb7c82b"
      },
      "source": [
        "pd.Series(gbr.predict(test_X))"
      ],
      "execution_count": null,
      "outputs": [
        {
          "output_type": "execute_result",
          "data": {
            "text/plain": [
              "0       358984.604402\n",
              "1       388468.811246\n",
              "2       416923.569585\n",
              "3       457022.478446\n",
              "4       397063.878871\n",
              "            ...      \n",
              "1454    405019.349029\n",
              "1455    387407.999654\n",
              "1456    414586.402797\n",
              "1457    356582.018848\n",
              "1458    514280.585966\n",
              "Length: 1459, dtype: float64"
            ]
          },
          "metadata": {
            "tags": []
          },
          "execution_count": 26
        }
      ]
    },
    {
      "cell_type": "markdown",
      "metadata": {
        "id": "AM49ABoagaMF"
      },
      "source": [
        "**Решение 2**"
      ]
    },
    {
      "cell_type": "code",
      "metadata": {
        "id": "76lx1xmXbfKN"
      },
      "source": [
        "from sklearn.preprocessing import LabelEncoder\r\n",
        "from scipy import stats"
      ],
      "execution_count": null,
      "outputs": []
    },
    {
      "cell_type": "code",
      "metadata": {
        "id": "_j89SgIWjL5t"
      },
      "source": [
        "col_drop = []\r\n",
        "for col in test.columns:\r\n",
        "    if (train[col].isnull().sum() > 45) or (test[col].isnull().sum() > 45):\r\n",
        "        col_drop.append(col)\r\n",
        "train.drop(col_drop, axis=1, inplace=True)\r\n",
        "test.drop(col_drop, axis=1, inplace=True)"
      ],
      "execution_count": null,
      "outputs": []
    },
    {
      "cell_type": "code",
      "metadata": {
        "id": "1OLAw6MoivNb"
      },
      "source": [
        "for col in test.columns:\r\n",
        "    if train[col].unique().shape[0] <= 30:\r\n",
        "        train[col].fillna(train[col].mode()[0], inplace=True)\r\n",
        "        test[col].fillna(test[col].mode()[0], inplace=True)\r\n",
        "        \r\n",
        "        train[col]= LabelEncoder().fit_transform(train[col]) \r\n",
        "        test[col]= LabelEncoder().fit_transform(test[col]) \r\n",
        "        #print(col, df_train[col].unique().shape[0])\r\n",
        "for col in test.columns:\r\n",
        "    if (train[col].isnull().sum() > 0) or (test[col].isnull().sum() > 0):\r\n",
        "        train[col].fillna(train[col].median(), inplace=True)\r\n",
        "        test[col].fillna(test[col].median(), inplace=True)"
      ],
      "execution_count": null,
      "outputs": []
    },
    {
      "cell_type": "code",
      "metadata": {
        "colab": {
          "base_uri": "https://localhost:8080/"
        },
        "id": "ekXeL5Idium2",
        "outputId": "3ca2b0d3-2936-4f7a-e27f-fc39dda1c822"
      },
      "source": [
        "train.shape"
      ],
      "execution_count": null,
      "outputs": [
        {
          "output_type": "execute_result",
          "data": {
            "text/plain": [
              "(1460, 70)"
            ]
          },
          "metadata": {
            "tags": []
          },
          "execution_count": 56
        }
      ]
    },
    {
      "cell_type": "code",
      "metadata": {
        "id": "HvqADF_PjBuP"
      },
      "source": [
        "for col in train.columns:\r\n",
        "    pearson_coef, p_value = stats.pearsonr(train[col], train['SalePrice'])\r\n",
        "    print(col, pearson_coef, p_value)"
      ],
      "execution_count": null,
      "outputs": []
    },
    {
      "cell_type": "code",
      "metadata": {
        "colab": {
          "base_uri": "https://localhost:8080/"
        },
        "id": "4ZoF7oYcjcGM",
        "outputId": "6634bf1e-4cee-4607-e555-be0dfee1477c"
      },
      "source": [
        "col_continues = []\r\n",
        "for col in test.columns:\r\n",
        "    if train[col].unique().shape[0] >= (train.shape[0])//10:\r\n",
        "        col_continues.append(col)\r\n",
        "print(col_continues)\r\n",
        "\r\n",
        "col_skew = train[col_continues].apply(lambda x: stats.skew(x)).sort_values(ascending=False)\r\n",
        "high_skew = col_skew[abs(col_skew) > 0.5]\r\n",
        "high_skew"
      ],
      "execution_count": null,
      "outputs": [
        {
          "output_type": "stream",
          "text": [
            "['Id', 'LotArea', 'MasVnrArea', 'BsmtFinSF1', 'BsmtUnfSF', 'TotalBsmtSF', '1stFlrSF', '2ndFlrSF', 'GrLivArea', 'GarageArea', 'WoodDeckSF', 'OpenPorchSF']\n"
          ],
          "name": "stdout"
        },
        {
          "output_type": "execute_result",
          "data": {
            "text/plain": [
              "LotArea        12.195142\n",
              "MasVnrArea      2.674865\n",
              "OpenPorchSF     2.361912\n",
              "BsmtFinSF1      1.683771\n",
              "WoodDeckSF      1.539792\n",
              "TotalBsmtSF     1.522688\n",
              "1stFlrSF        1.375342\n",
              "GrLivArea       1.365156\n",
              "BsmtUnfSF       0.919323\n",
              "2ndFlrSF        0.812194\n",
              "dtype: float64"
            ]
          },
          "metadata": {
            "tags": []
          },
          "execution_count": 81
        }
      ]
    },
    {
      "cell_type": "code",
      "metadata": {
        "id": "r2Bgkkn_jy1E"
      },
      "source": [
        "for col in high_skew.index:\r\n",
        "    train[col] = np.log1p(train[col])\r\n",
        "    test[col] = np.log1p(test[col])"
      ],
      "execution_count": null,
      "outputs": []
    },
    {
      "cell_type": "code",
      "metadata": {
        "colab": {
          "base_uri": "https://localhost:8080/"
        },
        "id": "WZGo9hpZj6yq",
        "outputId": "1ba4960b-1229-4260-f3dc-821c8aeea772"
      },
      "source": [
        "X=train.drop('SalePrice', axis=1)\r\n",
        "y = train.SalePrice\r\n",
        "\r\n",
        "X = StandardScaler().fit(X).transform(X)\r\n",
        "\r\n",
        "xtrain, xtest, ytrain, ytest = train_test_split(X, y, test_size=0.3, random_state=4)\r\n",
        "\r\n",
        "model = GradientBoostingRegressor()\r\n",
        "params={ 'learning_rate'    : [0.05, 0.10, 0.15],\r\n",
        "         'max_depth'        : [3, 4, 5, 6, 8, 10, 12, 15],\r\n",
        "         'n_estimators'     : [100, 500, 1000]}\r\n",
        "\r\n",
        "random_search = RandomizedSearchCV(model, params, cv=5)\r\n",
        "random_search.fit(xtrain, ytrain)\r\n",
        "print(random_search.best_estimator_)\r\n",
        "print(random_search.best_params_)\r\n",
        "print(random_search.best_score_)"
      ],
      "execution_count": null,
      "outputs": [
        {
          "output_type": "stream",
          "text": [
            "GradientBoostingRegressor(alpha=0.9, ccp_alpha=0.0, criterion='friedman_mse',\n",
            "                          init=None, learning_rate=0.15, loss='ls', max_depth=5,\n",
            "                          max_features=None, max_leaf_nodes=None,\n",
            "                          min_impurity_decrease=0.0, min_impurity_split=None,\n",
            "                          min_samples_leaf=1, min_samples_split=2,\n",
            "                          min_weight_fraction_leaf=0.0, n_estimators=500,\n",
            "                          n_iter_no_change=None, presort='deprecated',\n",
            "                          random_state=None, subsample=1.0, tol=0.0001,\n",
            "                          validation_fraction=0.1, verbose=0, warm_start=False)\n",
            "{'n_estimators': 500, 'max_depth': 5, 'learning_rate': 0.15}\n",
            "0.8494343546354932\n"
          ],
          "name": "stdout"
        }
      ]
    },
    {
      "cell_type": "code",
      "metadata": {
        "id": "1UvwEs9mkjI-"
      },
      "source": [
        "answers_data = pd.DataFrame(test.Id)\r\n",
        "test = StandardScaler().fit(test).transform(test)\r\n",
        "\r\n",
        "answers = pd.Series(gbr.predict(test))\r\n",
        "answers_data['SalePrice'] = answers.values\r\n",
        "sample = answers_data.to_csv('sample.csv',index=False)"
      ],
      "execution_count": null,
      "outputs": []
    },
    {
      "cell_type": "code",
      "metadata": {
        "colab": {
          "base_uri": "https://localhost:8080/"
        },
        "id": "XbjNLjM4n_-u",
        "outputId": "44ec1e3a-ff26-4909-d082-320cc55102a0"
      },
      "source": [
        "answers"
      ],
      "execution_count": null,
      "outputs": [
        {
          "output_type": "execute_result",
          "data": {
            "text/plain": [
              "0       135693.382015\n",
              "1       175185.531621\n",
              "2       196907.283781\n",
              "3       196886.249057\n",
              "4       216243.956481\n",
              "            ...      \n",
              "1454     82284.759312\n",
              "1455     82033.103602\n",
              "1456    164647.978017\n",
              "1457    126100.230361\n",
              "1458    241600.826708\n",
              "Length: 1459, dtype: float64"
            ]
          },
          "metadata": {
            "tags": []
          },
          "execution_count": 84
        }
      ]
    },
    {
      "cell_type": "code",
      "metadata": {
        "id": "FcfwB6UxoDKS"
      },
      "source": [
        ""
      ],
      "execution_count": null,
      "outputs": []
    }
  ]
}